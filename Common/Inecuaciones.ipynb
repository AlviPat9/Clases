{
 "cells": [
  {
   "cell_type": "markdown",
   "id": "da9d80c1",
   "metadata": {},
   "source": [
    "# Ejercicios de Inecuaciones."
   ]
  },
  {
   "cell_type": "markdown",
   "id": "345775db",
   "metadata": {},
   "source": [
    "# Ej 1\n",
    "\n",
    "Resuelve:\n",
    "\n",
    "$ x^2 + 3x - 4 <= 0$\n",
    "\n",
    "# Ej 2\n",
    "\n",
    "$2x-3 <= 3x + 1$\n",
    "\n",
    "$2(3-x) <= x$\n",
    "\n",
    "# Ej 3\n",
    "\n",
    "$x<0$\n",
    "\n",
    "$2x+6 > 5x+3$\n",
    "\n",
    "$x^2 > 4$\n",
    "\n",
    "# Ej 4"
   ]
  },
  {
   "cell_type": "markdown",
   "id": "c3d8d29e",
   "metadata": {},
   "source": [
    "# Soluciones\n",
    "## Ej 1\n",
    "x en el intervalo [-4, 1].\n",
    "\n",
    "## Ej 2\n",
    "x ene l intervalo [2, inf)\n",
    "                   \n",
    "## Ej 3\n",
    "\n",
    " x en el intervalo [-2, 0)\n",
    "                    \n"
   ]
  },
  {
   "cell_type": "code",
   "execution_count": null,
   "id": "bafeb81c",
   "metadata": {},
   "outputs": [],
   "source": []
  }
 ],
 "metadata": {
  "kernelspec": {
   "display_name": "Python 3",
   "language": "python",
   "name": "python3"
  },
  "language_info": {
   "codemirror_mode": {
    "name": "ipython",
    "version": 3
   },
   "file_extension": ".py",
   "mimetype": "text/x-python",
   "name": "python",
   "nbconvert_exporter": "python",
   "pygments_lexer": "ipython3",
   "version": "3.8.8"
  }
 },
 "nbformat": 4,
 "nbformat_minor": 5
}

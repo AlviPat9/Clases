{
 "cells": [
  {
   "cell_type": "markdown",
   "id": "d40c93df",
   "metadata": {},
   "source": [
    "# Ejercicios de planteamiento y resolución de sistemas"
   ]
  },
  {
   "cell_type": "markdown",
   "id": "dc622d0c",
   "metadata": {},
   "source": [
    "# EJ 1\n",
    "Se tiene un triángulo del cual se quieren obtener los valores de sus ángulos. Plantea y resuelve el sistema de ecuaciones si:\n",
    "\n",
    "- Los ángulos se denotan por x, z e y.\n",
    "- Se sabe que el suplementario del ángulo z es el doble que el ángulo x menos 10°.\n",
    "- El suplementario de y es tres veces x más 10°."
   ]
  },
  {
   "cell_type": "markdown",
   "id": "de84b95e",
   "metadata": {},
   "source": [
    "# EJ 2\n",
    "\n",
    "Las edades de Juan, Miguel y Gabriel suman 70 años. La edad de Juan, el doble de la de Miguel y el triple de la de Gabriel\n",
    "suman 160 años. Y la edad de Gabriel iguala a la suma de las edades de Juan y Miguel. Halla las edades.\n"
   ]
  },
  {
   "cell_type": "markdown",
   "id": "54b48c36",
   "metadata": {},
   "source": [
    "# EJ 3\n",
    "Se sabe que el coste de tres lápices, un rotulador y dos carpetas es de 15€, mientras que el de una carpeta, dos lápices y \n",
    "cuatro rotuladores es de 20€.\n",
    "\n",
    "    a) Si siete rotuladores y un lápiz cuestan 25€, Cuánto cuesta cada artículo?\n",
    "    \n",
    "    b) Si por el precio de diez lápices se puede comprar una carpeta, ¿Cuánto cuesta cada artículo?\n"
   ]
  },
  {
   "cell_type": "code",
   "execution_count": null,
   "id": "99dce456",
   "metadata": {},
   "outputs": [],
   "source": []
  },
  {
   "cell_type": "markdown",
   "id": "d70888be",
   "metadata": {},
   "source": [
    "# Soluciones"
   ]
  },
  {
   "cell_type": "markdown",
   "id": "a08f63a9",
   "metadata": {},
   "source": [
    "## EJ 1\n",
    "solucion EJ 1 El sistema a resolver es:\n",
    "\n",
    "$2x + 0y + z = 190 $\n",
    "\n",
    "$3x + y + 0z = 170 $\n",
    "\n",
    "$x + y + z = 180$\n",
    "\n",
    "La solución del sistema es:\n",
    "\n",
    "$x=45.0$\n",
    "\n",
    "$y=35.0$\n",
    "\n",
    "$z=100.0$\n",
    "\n",
    "## EJ 2\n",
    "\n",
    "El sistema a resolver es:\n",
    "\n",
    "$x + y + z = 70$\n",
    "\n",
    "$x + 2y + 3z = 160$\n",
    "\n",
    "$x + y - z = 0$\n",
    "\n",
    "La solución del sistems es:\n",
    "\n",
    "$x = 15$\n",
    "\n",
    "$y = 20$\n",
    "\n",
    "$z = 35$\n",
    "\n",
    "## EJ 3\n",
    "\n",
    "Se tienen 2 ecuaciones y 3 incógnitas del enunciado:\n",
    "\n",
    "$3x + y + 2z = 15$\n",
    "\n",
    "$2x + 4y + z = 20$\n",
    "\n",
    "a) Apartado a:\n",
    "\n",
    "    Tercera ecuación para el sistema:\n",
    "    \n",
    "$x + 7y = 25$ \n",
    "    \n",
    "    Sistemna Compatible Indeterminado.\n",
    "    \n",
    "b) Apartado b:\n",
    "\n",
    "    Tercera Ecuación del sistema:\n",
    "    \n",
    "$10x = z$\n",
    "    \n",
    "    Sistema Compatible Determinado -> Tiene solución:\n",
    "    \n",
    "$x = 0.5 $\n",
    "    \n",
    "$ y = 3.5$\n",
    "    \n",
    "$z = 5$"
   ]
  },
  {
   "cell_type": "code",
   "execution_count": null,
   "id": "8a45598b",
   "metadata": {},
   "outputs": [],
   "source": []
  }
 ],
 "metadata": {
  "kernelspec": {
   "display_name": "Python 3",
   "language": "python",
   "name": "python3"
  },
  "language_info": {
   "codemirror_mode": {
    "name": "ipython",
    "version": 3
   },
   "file_extension": ".py",
   "mimetype": "text/x-python",
   "name": "python",
   "nbconvert_exporter": "python",
   "pygments_lexer": "ipython3",
   "version": "3.8.8"
  }
 },
 "nbformat": 4,
 "nbformat_minor": 5
}

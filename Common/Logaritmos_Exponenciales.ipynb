{
 "cells": [
  {
   "cell_type": "markdown",
   "id": "0edc2917",
   "metadata": {},
   "source": [
    "# EJ 2 -> Sistemas de ecuaciones (logaritmos y exponenciales)\n",
    "\n",
    "### 2.1\n",
    "\n",
    "$x + y = 33$\n",
    "\n",
    "$log  x - log  y = 1$\n",
    "\n",
    "\n",
    "\n",
    "### 2.2\n",
    "\n",
    "\n",
    "$log x^2 + log y^2 = 2$\n",
    "\n",
    "$x^2 + y^2 = 29$\n",
    "\n",
    "### 2.3\n",
    "\n",
    "$log x - log y = 1$\n",
    "\n",
    "$2^{x-24} = 4^y$\n",
    "\n",
    "### 2.4\n",
    "\n",
    "$15*5^x - 6^{y+1} = 339$\n",
    "\n",
    "$3*5^{x+1} + 2*6^{y+2} = 807$\n",
    "\n",
    "\n",
    "### 2.5\n",
    "##### Discutir el siguiente sistema en función del parámetro a -> Resolver posteriormente para a=1, 3\n",
    "\n",
    "$ x+ay+z=1$\n",
    "\n",
    "$2y + az = 2$\n",
    "\n",
    "$x+y+z=1$\n",
    "\n",
    "### 2.6\n",
    "##### Calcular el valor del parámetro k para que el sistema sea compatible indeterminado\n",
    "\n",
    "$x + 2y - 2z = 4$\n",
    "\n",
    "$2x + 5y - 2z = 10$\n",
    "\n",
    "$4x + 9y - 6z = k$\n"
   ]
  },
  {
   "cell_type": "markdown",
   "id": "61b35e9b",
   "metadata": {},
   "source": [
    "# Soluciones"
   ]
  },
  {
   "cell_type": "markdown",
   "id": "80824bdf",
   "metadata": {},
   "source": [
    "# EJ2\n",
    "\n",
    "### EJ 2.1\n",
    "###### x = 30, y = 3\n",
    "\n",
    "### EJ 2.2\n",
    "###### $x_{1,2} = +-5, x _{3,4} = +-2, y_{1,2} = +-2, y_{3,4} = +-5$\n",
    "\n",
    "\n",
    "### EJ 2.3\n",
    "###### x = 30, y = 3\n",
    "\n",
    "### EJ 2.4\n",
    "###### x = 25, y = 1\n",
    "\n",
    "### EJ 2.5\n",
    "###### a = 1 -> Compatible Indeterminado (CI)\n",
    "###### a = 0 -> Incompatible\n",
    "###### Para a = 3 -> x = 1/3, y = 0, z = 2/3\n",
    "###### Para a = 1 -> Solución paramétrica en función de y:\n",
    "###### x = 3t - 1, y = t,  z = 2 * (1 - t)\n",
    "\n",
    "### EJ 2.6\n",
    "###### k = 18"
   ]
  },
  {
   "cell_type": "code",
   "execution_count": null,
   "id": "b7df5f3c",
   "metadata": {},
   "outputs": [],
   "source": [
    "import numpy as np\n",
    "import matplotlib.pyplot as plt"
   ]
  },
  {
   "cell_type": "code",
   "execution_count": 15,
   "id": "0767c0e0",
   "metadata": {},
   "outputs": [
    {
     "name": "stdout",
     "output_type": "stream",
     "text": [
      "solucion EJ 1\n",
      "El sistema a resolver es:\n",
      "\n",
      "2x + 0y + 1z = 190\n",
      "3x + 1y + 0z = 170\n",
      "1x + 1y + 1z = 180\n",
      "\n",
      "La solución del sistema es:\n",
      "\n",
      "x=45.0, y=35.0, z=100.0\n"
     ]
    }
   ],
   "source": [
    "print(\"solucion EJ 1\")\n",
    "\n",
    "system = np.array([[2, 0, 1], [3, 1, 0], [1, 1, 1]])\n",
    "independent_term = np.array([190, 170, 180])\n",
    "\n",
    "print(\"El sistema a resolver es:\\n\")\n",
    "\n",
    "print(f\"{system[0,0]}x + {system[0, 1]}y + {system[0, 2]}z = {independent_term[0]}\")\n",
    "print(f\"{system[1,0]}x + {system[1, 1]}y + {system[1, 2]}z = {independent_term[1]}\")\n",
    "print(f\"{system[2,0]}x + {system[2, 1]}y + {system[2, 2]}z = {independent_term[2]}\\n\")\n",
    "\n",
    "print(\"La solución del sistema es:\\n\")\n",
    "sol = np.round(np.linalg.solve(system, independent_term))\n",
    "\n",
    "print(f\"x={sol[0]}, y={sol[1]}, z={sol[2]}\")"
   ]
  },
  {
   "cell_type": "code",
   "execution_count": null,
   "id": "1c11a9a3",
   "metadata": {},
   "outputs": [],
   "source": []
  },
  {
   "cell_type": "code",
   "execution_count": null,
   "id": "237820c0",
   "metadata": {},
   "outputs": [],
   "source": []
  }
 ],
 "metadata": {
  "kernelspec": {
   "display_name": "Python 3",
   "language": "python",
   "name": "python3"
  },
  "language_info": {
   "codemirror_mode": {
    "name": "ipython",
    "version": 3
   },
   "file_extension": ".py",
   "mimetype": "text/x-python",
   "name": "python",
   "nbconvert_exporter": "python",
   "pygments_lexer": "ipython3",
   "version": "3.8.8"
  }
 },
 "nbformat": 4,
 "nbformat_minor": 5
}
